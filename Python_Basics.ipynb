{
 "cells": [
  {
   "cell_type": "code",
   "execution_count": 2,
   "metadata": {},
   "outputs": [
    {
     "name": "stdout",
     "output_type": "stream",
     "text": [
      "Hello\n"
     ]
    }
   ],
   "source": [
    "print (\"Hello\")"
   ]
  },
  {
   "cell_type": "code",
   "execution_count": null,
   "metadata": {},
   "outputs": [],
   "source": [
    "a = 3\n",
    "b = 5\n",
    "c = 7"
   ]
  },
  {
   "cell_type": "code",
   "execution_count": 7,
   "metadata": {},
   "outputs": [
    {
     "data": {
      "text/plain": [
       "1"
      ]
     },
     "execution_count": 7,
     "metadata": {},
     "output_type": "execute_result"
    }
   ],
   "source": [
    "my_first_list = [1, 2, 3]\n",
    "my_second_list = [4, 5, 6]\n",
    "\n",
    "my_first_list.append(my_second_list)\n",
    "my_first_list[3][1]\n",
    "my_first_list[-1][1]\n",
    "my_first_list[-1][-2]\n",
    "my_first_list[0]"
   ]
  },
  {
   "cell_type": "code",
   "execution_count": 4,
   "metadata": {},
   "outputs": [
    {
     "ename": "TypeError",
     "evalue": "unsupported operand type(s) for +: 'int' and 'str'",
     "output_type": "error",
     "traceback": [
      "\u001b[0;31m---------------------------------------------------------------------------\u001b[0m",
      "\u001b[0;31mTypeError\u001b[0m                                 Traceback (most recent call last)",
      "\u001b[0;32m<ipython-input-4-8462488f1840>\u001b[0m in \u001b[0;36m<module>\u001b[0;34m\u001b[0m\n\u001b[1;32m      3\u001b[0m \u001b[0mvar\u001b[0m \u001b[0;34m=\u001b[0m \u001b[0;34m\"3\"\u001b[0m\u001b[0;34m\u001b[0m\u001b[0;34m\u001b[0m\u001b[0m\n\u001b[1;32m      4\u001b[0m \u001b[0;34m\u001b[0m\u001b[0m\n\u001b[0;32m----> 5\u001b[0;31m \u001b[0mprint\u001b[0m\u001b[0;34m(\u001b[0m\u001b[0mvar1\u001b[0m \u001b[0;34m+\u001b[0m \u001b[0mvar2\u001b[0m \u001b[0;34m+\u001b[0m \u001b[0mvar\u001b[0m\u001b[0;34m)\u001b[0m\u001b[0;34m\u001b[0m\u001b[0;34m\u001b[0m\u001b[0m\n\u001b[0m",
      "\u001b[0;31mTypeError\u001b[0m: unsupported operand type(s) for +: 'int' and 'str'"
     ]
    }
   ],
   "source": [
    "var1 = 1\n",
    "var2 = 2\n",
    "var3 = \"3\"\n",
    "\n",
    "print(var1 + var2 + var3)"
   ]
  },
  {
   "cell_type": "code",
   "execution_count": 8,
   "metadata": {},
   "outputs": [
    {
     "name": "stdout",
     "output_type": "stream",
     "text": [
      "25\n",
      "125\n"
     ]
    }
   ],
   "source": [
    "valueOne = 5 ** 2\n",
    "valueTwo = 5 ** 3\n",
    "\n",
    "print(valueOne)\n",
    "print(valueTwo)"
   ]
  },
  {
   "cell_type": "code",
   "execution_count": 9,
   "metadata": {},
   "outputs": [
    {
     "name": "stdout",
     "output_type": "stream",
     "text": [
      "182.0\n"
     ]
    }
   ],
   "source": [
    "x = 36 / 4 * (3 +  2) * 4 + 2\n",
    "print(x)"
   ]
  },
  {
   "cell_type": "code",
   "execution_count": 14,
   "metadata": {},
   "outputs": [
    {
     "name": "stdout",
     "output_type": "stream",
     "text": [
      "maJ\n"
     ]
    }
   ],
   "source": [
    "var= \"James Bond\"\n",
    "print(var[2::-1])"
   ]
  },
  {
   "cell_type": "code",
   "execution_count": 15,
   "metadata": {},
   "outputs": [
    {
     "name": "stdout",
     "output_type": "stream",
     "text": [
      "10 20 30\n"
     ]
    }
   ],
   "source": [
    "p, q, r = 10, 20 ,30\n",
    "print(p, q, r)\n"
   ]
  },
  {
   "cell_type": "code",
   "execution_count": 16,
   "metadata": {},
   "outputs": [
    {
     "name": "stdout",
     "output_type": "stream",
     "text": [
      "yn\n"
     ]
    }
   ],
   "source": [
    "str = \"pynative\"\n",
    "print (str[1:3])"
   ]
  },
  {
   "cell_type": "code",
   "execution_count": 19,
   "metadata": {},
   "outputs": [
    {
     "name": "stdout",
     "output_type": "stream",
     "text": [
      "['Jon', 'Kelly', 'Jessa', 'Scott']\n"
     ]
    }
   ],
   "source": [
    "sampleList = [\"Jon\", \"Kelly\", \"Jessa\"]\n",
    "sampleList.append(\"Scott\")\n",
    "print(sampleList)\n"
   ]
  },
  {
   "cell_type": "code",
   "execution_count": 20,
   "metadata": {},
   "outputs": [
    {
     "name": "stdout",
     "output_type": "stream",
     "text": [
      "JamesJamesJamesJamesJamesJames\n"
     ]
    }
   ],
   "source": [
    "var = \"James\" * 2  * 3\n",
    "print(var)\n"
   ]
  },
  {
   "cell_type": "code",
   "execution_count": 21,
   "metadata": {},
   "outputs": [
    {
     "name": "stdout",
     "output_type": "stream",
     "text": [
      "True\n",
      "False\n"
     ]
    }
   ],
   "source": [
    "listOne = [20, 40, 60, 80]\n",
    "listTwo = [20, 40, 60, 80]\n",
    "\n",
    "print(listOne == listTwo)\n",
    "print(listOne is listTwo)\n"
   ]
  },
  {
   "cell_type": "code",
   "execution_count": 22,
   "metadata": {},
   "outputs": [
    {
     "name": "stdout",
     "output_type": "stream",
     "text": [
      "['c', 'd', 'e', 'f', 'g']\n"
     ]
    }
   ],
   "source": [
    "L = ['a', 'b', 'c', 'd', 'e', 'f', 'g', 'h', 'i']\n",
    "print(L[-7:-2])\n"
   ]
  },
  {
   "cell_type": "code",
   "execution_count": 23,
   "metadata": {},
   "outputs": [
    {
     "name": "stdout",
     "output_type": "stream",
     "text": [
      "['g', 'e', 'c']\n"
     ]
    }
   ],
   "source": [
    "L = ['a', 'b', 'c', 'd', 'e', 'f', 'g', 'h', 'i']\n",
    "print(L[6:1:-2])\n"
   ]
  },
  {
   "cell_type": "code",
   "execution_count": 24,
   "metadata": {},
   "outputs": [
    {
     "name": "stdout",
     "output_type": "stream",
     "text": [
      "['a', 1, 2, 3, 'c', 'd', 'e']\n"
     ]
    }
   ],
   "source": [
    "L = ['a', 'b', 'c', 'd', 'e']\n",
    "L[1:2] = [1, 2, 3]\n",
    "print(L)\n"
   ]
  },
  {
   "cell_type": "code",
   "execution_count": 32,
   "metadata": {},
   "outputs": [],
   "source": [
    "def concatenate(str1, str2):\n",
    "    print(str1+ \" \"+str2)    "
   ]
  },
  {
   "cell_type": "code",
   "execution_count": 33,
   "metadata": {},
   "outputs": [
    {
     "name": "stdout",
     "output_type": "stream",
     "text": [
      "abc defg\n"
     ]
    }
   ],
   "source": [
    "concatenate('abc','defg')"
   ]
  },
  {
   "cell_type": "code",
   "execution_count": 42,
   "metadata": {},
   "outputs": [],
   "source": [
    "def difference_of_strings(str1,str2):\n",
    "    vara = len(str1)\n",
    "    varb = len(str2)\n",
    "    if vara>varb:\n",
    "       print(vara-varb)\n",
    "    else:\n",
    "        print(varb-vara)"
   ]
  },
  {
   "cell_type": "code",
   "execution_count": 46,
   "metadata": {},
   "outputs": [
    {
     "name": "stdout",
     "output_type": "stream",
     "text": [
      "1\n"
     ]
    }
   ],
   "source": [
    "difference_of_strings('abc', 'defg')"
   ]
  },
  {
   "cell_type": "code",
   "execution_count": 47,
   "metadata": {},
   "outputs": [],
   "source": [
    "def operation_calc(num1, num2, operator):\n",
    "    if operator == 'add':\n",
    "        print('sum is {}'.format(num1 + num2))\n",
    "    elif opp == 'sub':\n",
    "        print('minus is {}'.format(num1 - num2))\n",
    "    elif opp == 'mul':\n",
    "        print('multiply is {}'.format(num1 * num2))\n",
    "    elif opp == 'div':\n",
    "        if num2!=0:\n",
    "            print('div is {}'.format(num1/num2))\n",
    "        else:\n",
    "            print('div not possible')\n",
    "    else:\n",
    "        print('operator is invalid')"
   ]
  },
  {
   "cell_type": "code",
   "execution_count": 48,
   "metadata": {},
   "outputs": [
    {
     "name": "stdout",
     "output_type": "stream",
     "text": [
      "sum is 40\n"
     ]
    }
   ],
   "source": [
    "operation_calc(10,30,'add')"
   ]
  },
  {
   "cell_type": "code",
   "execution_count": null,
   "metadata": {},
   "outputs": [],
   "source": []
  }
 ],
 "metadata": {
  "kernelspec": {
   "display_name": "Python 3",
   "language": "python",
   "name": "python3"
  },
  "language_info": {
   "codemirror_mode": {
    "name": "ipython",
    "version": 3
   },
   "file_extension": ".py",
   "mimetype": "text/x-python",
   "name": "python",
   "nbconvert_exporter": "python",
   "pygments_lexer": "ipython3",
   "version": "3.7.6"
  }
 },
 "nbformat": 4,
 "nbformat_minor": 4
}
